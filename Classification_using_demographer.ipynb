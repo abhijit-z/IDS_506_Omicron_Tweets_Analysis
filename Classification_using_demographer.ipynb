{
  "cells": [
    {
      "cell_type": "markdown",
      "metadata": {
        "id": "view-in-github",
        "colab_type": "text"
      },
      "source": [
        "<a href=\"https://colab.research.google.com/github/abhijit-z/IDS_506_Omicron_Tweets_Analysis/blob/main/Classification_using_demographer.ipynb\" target=\"_parent\"><img src=\"https://colab.research.google.com/assets/colab-badge.svg\" alt=\"Open In Colab\"/></a>"
      ]
    },
    {
      "cell_type": "markdown",
      "source": [
        "### Classifying the tweets based on the source (individual vs organization). Using the demographer package the tweets have been classified into individual and organizations"
      ],
      "metadata": {
        "id": "LxikE-KT_fOU"
      }
    },
    {
      "cell_type": "code",
      "execution_count": null,
      "metadata": {
        "colab": {
          "base_uri": "https://localhost:8080/"
        },
        "id": "XGqTngN5YK8a",
        "outputId": "3cebe5a5-c011-4f5d-eb8b-75ded5301c82"
      },
      "outputs": [
        {
          "output_type": "stream",
          "name": "stdout",
          "text": [
            "Drive already mounted at /content/drive; to attempt to forcibly remount, call drive.mount(\"/content/drive\", force_remount=True).\n"
          ]
        }
      ],
      "source": [
        "import pandas as pd\n",
        "import numpy as np\n",
        "import glob\n",
        "from datetime import datetime\n",
        "import os\n",
        "\n",
        "import seaborn as sns\n",
        "import matplotlib.pyplot as plt\n",
        "\n",
        "from google.colab import drive\n",
        "drive.mount('/content/drive')"
      ]
    },
    {
      "cell_type": "code",
      "execution_count": null,
      "metadata": {
        "colab": {
          "base_uri": "https://localhost:8080/"
        },
        "id": "6v9DSWLZBfLB",
        "outputId": "a5400ae0-3e59-49a7-cd3b-15b14f0f96d6"
      },
      "outputs": [
        {
          "output_type": "stream",
          "name": "stdout",
          "text": [
            "/content\n"
          ]
        }
      ],
      "source": [
        "!pwd"
      ]
    },
    {
      "cell_type": "code",
      "execution_count": null,
      "metadata": {
        "colab": {
          "base_uri": "https://localhost:8080/"
        },
        "id": "bHuNQQQCBziR",
        "outputId": "e4d7d04d-13fb-4a27-da5a-a1131baa1840"
      },
      "outputs": [
        {
          "output_type": "stream",
          "name": "stdout",
          "text": [
            "drive  sample_data\n"
          ]
        }
      ],
      "source": [
        "!ls"
      ]
    },
    {
      "cell_type": "code",
      "execution_count": null,
      "metadata": {
        "id": "peenSCo5CcsQ"
      },
      "outputs": [],
      "source": [
        "#%cd \"/content/drive/MyDrive/Omicron Tweet Analytics project/Initial_dataset\""
      ]
    },
    {
      "cell_type": "code",
      "execution_count": null,
      "metadata": {
        "id": "6ODsR7uCCjVp"
      },
      "outputs": [],
      "source": [
        "#!ls"
      ]
    },
    {
      "cell_type": "code",
      "execution_count": null,
      "metadata": {
        "id": "0QVFMMBfm0yh"
      },
      "outputs": [],
      "source": [
        "#!ls /usr/local/lib/python3.7/dist-packages/demographer/"
      ]
    },
    {
      "cell_type": "code",
      "execution_count": null,
      "metadata": {
        "id": "2x8m7QqtknXe"
      },
      "outputs": [],
      "source": [
        "#import tensorflow as tf\n",
        "#print(tf. __version__)"
      ]
    },
    {
      "cell_type": "code",
      "execution_count": null,
      "metadata": {
        "id": "dtIVvCChoQ7q"
      },
      "outputs": [],
      "source": [
        "#!pip uninstall tensorflow \n",
        "#!pip install  tensorflow==1.15\n",
        "#!pip install tensorflow==1.13.1"
      ]
    },
    {
      "cell_type": "code",
      "execution_count": null,
      "metadata": {
        "colab": {
          "base_uri": "https://localhost:8080/"
        },
        "id": "OxmzgU4NYMTl",
        "outputId": "99b155fc-6c26-48ec-b30f-42bd627138f9"
      },
      "outputs": [
        {
          "output_type": "stream",
          "name": "stdout",
          "text": [
            "Requirement already satisfied: demographer in /usr/local/lib/python3.7/dist-packages (1.0.4)\n",
            "Requirement already satisfied: numpy in /usr/local/lib/python3.7/dist-packages (from demographer) (1.21.6)\n",
            "Requirement already satisfied: scikit-learn in /usr/local/lib/python3.7/dist-packages (from demographer) (1.0.2)\n",
            "Requirement already satisfied: threadpoolctl>=2.0.0 in /usr/local/lib/python3.7/dist-packages (from scikit-learn->demographer) (3.1.0)\n",
            "Requirement already satisfied: joblib>=0.11 in /usr/local/lib/python3.7/dist-packages (from scikit-learn->demographer) (1.1.0)\n",
            "Requirement already satisfied: scipy>=1.1.0 in /usr/local/lib/python3.7/dist-packages (from scikit-learn->demographer) (1.4.1)\n"
          ]
        }
      ],
      "source": [
        "!pip install demographer\n",
        "\n",
        "\n",
        "import json\n",
        "import pandas as pd\n",
        "import numpy as np\n",
        "from demographer import process_tweet\n",
        "#from google.colab import drive\n",
        "from scipy.stats import mode\n",
        "\n",
        "\n",
        "'''\n",
        "# Commented out IPython magic to ensure Python compatibility.\n",
        "!ls\n",
        "# %cd /\n",
        "\n",
        "# Commented out IPython magic to ensure Python compatibility.\n",
        "# %cd /\n",
        "# %cd content/drive/MyDrive\n",
        "'''\n",
        "\n",
        "from demographer.indorg_neural import NeuralOrganizationDemographer\n",
        "from demographer.indorg import IndividualOrgDemographer\n"
      ]
    },
    {
      "cell_type": "code",
      "execution_count": null,
      "metadata": {
        "colab": {
          "base_uri": "https://localhost:8080/"
        },
        "id": "Yq9jbiiQYban",
        "outputId": "c142e7c8-b3e3-473f-f2ac-37c77f56523f"
      },
      "outputs": [
        {
          "output_type": "stream",
          "name": "stdout",
          "text": [
            "WARNING:tensorflow:From /usr/local/lib/python3.7/dist-packages/demographer/indorg_neural.py:43: The name tf.train.import_meta_graph is deprecated. Please use tf.compat.v1.train.import_meta_graph instead.\n",
            "\n",
            "WARNING:tensorflow:From /usr/local/lib/python3.7/dist-packages/demographer/indorg_neural.py:46: The name tf.Session is deprecated. Please use tf.compat.v1.Session instead.\n",
            "\n",
            "INFO:tensorflow:Restoring parameters from /usr/local/lib/python3.7/dist-packages/demographer/models/indorg_neural/balanced\n",
            "INFO:tensorflow:Restoring parameters from /usr/local/lib/python3.7/dist-packages/demographer/models/indorg_neural/full\n",
            "DatetimeIndex(['2022-01-11', '2022-01-12', '2022-01-13', '2022-01-14',\n",
            "               '2022-01-15', '2022-01-16', '2022-01-17', '2022-01-18',\n",
            "               '2022-01-19', '2022-01-20', '2022-01-21', '2022-01-22',\n",
            "               '2022-01-23', '2022-01-24', '2022-01-25', '2022-01-26',\n",
            "               '2022-01-27', '2022-01-28', '2022-01-29', '2022-01-30',\n",
            "               '2022-01-31'],\n",
            "              dtype='datetime64[ns]', freq='D')\n",
            "01112022\n"
          ]
        },
        {
          "output_type": "stream",
          "name": "stderr",
          "text": [
            "/usr/local/lib/python3.7/dist-packages/ipykernel_launcher.py:38: SettingWithCopyWarning: \n",
            "A value is trying to be set on a copy of a slice from a DataFrame.\n",
            "Try using .loc[row_indexer,col_indexer] = value instead\n",
            "\n",
            "See the caveats in the documentation: https://pandas.pydata.org/pandas-docs/stable/user_guide/indexing.html#returning-a-view-versus-a-copy\n",
            "/usr/local/lib/python3.7/dist-packages/ipykernel_launcher.py:36: SettingWithCopyWarning: \n",
            "A value is trying to be set on a copy of a slice from a DataFrame.\n",
            "Try using .loc[row_indexer,col_indexer] = value instead\n",
            "\n",
            "See the caveats in the documentation: https://pandas.pydata.org/pandas-docs/stable/user_guide/indexing.html#returning-a-view-versus-a-copy\n"
          ]
        },
        {
          "output_type": "stream",
          "name": "stdout",
          "text": [
            "(135850, 36)\n",
            "ind    104522\n",
            "org     31328\n",
            "Name: ind_org, dtype: int64\n",
            "01122022\n",
            "(132016, 36)\n",
            "ind    102255\n",
            "org     29761\n",
            "Name: ind_org, dtype: int64\n",
            "01132022\n",
            "(135718, 36)\n",
            "ind    103714\n",
            "org     32004\n",
            "Name: ind_org, dtype: int64\n",
            "01142022\n",
            "(115288, 36)\n",
            "ind    87334\n",
            "org    27954\n",
            "Name: ind_org, dtype: int64\n",
            "01152022\n",
            "(80550, 36)\n",
            "ind    65137\n",
            "org    15413\n",
            "Name: ind_org, dtype: int64\n",
            "01162022\n",
            "(72848, 36)\n",
            "ind    58539\n",
            "org    14309\n",
            "Name: ind_org, dtype: int64\n",
            "01172022\n",
            "(88112, 36)\n",
            "ind    66190\n",
            "org    21922\n",
            "Name: ind_org, dtype: int64\n",
            "01182022\n",
            "(111752, 36)\n",
            "ind    83559\n",
            "org    28193\n",
            "Name: ind_org, dtype: int64\n",
            "01192022\n",
            "(111774, 36)\n",
            "ind    83282\n",
            "org    28492\n",
            "Name: ind_org, dtype: int64\n",
            "01202022\n",
            "(86183, 36)\n",
            "ind    64189\n",
            "org    21994\n",
            "Name: ind_org, dtype: int64\n",
            "01212022\n",
            "(92204, 36)\n",
            "ind    68382\n",
            "org    23822\n",
            "Name: ind_org, dtype: int64\n",
            "01222022\n",
            "(69696, 36)\n",
            "ind    56122\n",
            "org    13574\n",
            "Name: ind_org, dtype: int64\n",
            "01232022\n",
            "(65240, 36)\n",
            "ind    52341\n",
            "org    12899\n",
            "Name: ind_org, dtype: int64\n",
            "01242022\n",
            "(93780, 36)\n",
            "ind    70628\n",
            "org    23152\n",
            "Name: ind_org, dtype: int64\n",
            "01252022\n",
            "(93242, 36)\n",
            "ind    69936\n",
            "org    23306\n",
            "Name: ind_org, dtype: int64\n",
            "01262022\n",
            "(83862, 36)\n",
            "ind    62380\n",
            "org    21482\n",
            "Name: ind_org, dtype: int64\n",
            "01272022\n",
            "(89356, 36)\n",
            "ind    67893\n",
            "org    21463\n",
            "Name: ind_org, dtype: int64\n",
            "01282022\n",
            "(84748, 36)\n",
            "ind    64245\n",
            "org    20503\n",
            "Name: ind_org, dtype: int64\n",
            "01292022\n",
            "(62737, 36)\n",
            "ind    50494\n",
            "org    12243\n",
            "Name: ind_org, dtype: int64\n",
            "01302022\n",
            "(58947, 36)\n",
            "ind    47000\n",
            "org    11947\n",
            "Name: ind_org, dtype: int64\n",
            "01312022\n",
            "(93474, 36)\n",
            "ind    70777\n",
            "org    22697\n",
            "Name: ind_org, dtype: int64\n"
          ]
        }
      ],
      "source": [
        "demographer_list = [\n",
        "        IndividualOrgDemographer(setup='balanced'),\n",
        "        NeuralOrganizationDemographer(setup='balanced'),\n",
        "        IndividualOrgDemographer(setup='full'),\n",
        "        NeuralOrganizationDemographer(setup='full')\n",
        "        \n",
        "    ]\n",
        "\n",
        "required_cols = ['friends_count', 'followers_count', 'listed_count', 'statuses_count', 'description', 'verified', 'created_at', 'name', 'screen_name']\n",
        "\n",
        "cols_in_hydrated = []\n",
        "\n",
        "for col in required_cols:\n",
        "  cols_in_hydrated.append('user_' + col)\n",
        "\n",
        "date1 = '2022-01-11'\n",
        "date2 = '2022-01-31'\n",
        "#date2 = '2022-01-31'\n",
        "\n",
        "#date1 = datetime.datetime.strptime('12012021', '%m%d%Y')\n",
        "#date2 = datetime.datetime.strptime('12022021', '%m%d%Y')\n",
        "\n",
        "mydates = pd.date_range(date1, date2, freq='d')#.tolist()\n",
        "print(mydates)\n",
        "for d in pd.date_range(date1, date2, freq='d'):\n",
        "  d_str = d.strftime(\"%m%d%Y\")\n",
        "  print(d_str)\n",
        "  path = \"/content/drive/MyDrive/Omicron Tweet Analytics project/Initial_dataset/tweet_\" + d_str + \".csv\"\n",
        "\n",
        "  df = pd.read_csv(path, engine='python', on_bad_lines = 'skip')\n",
        "  df_sub = df[cols_in_hydrated]\n",
        "  df_sub.columns = required_cols\n",
        "\n",
        "  for col in df_sub.columns:\n",
        "    if df_sub[col].dtype=='object':\n",
        "      df_sub[col] = df_sub[col].fillna('')\n",
        "    else:\n",
        "      df_sub[col] = df_sub[col].fillna(0)\n",
        "      \n",
        "  def ind_org_classify(tweet):\n",
        "    result = process_tweet(tweet, demographer_list)\n",
        "    demo_list = ['indorg_balanced', 'indorg_full', 'indorg_neural_balanced', 'indorg_neural_full']\n",
        "    output = []\n",
        "    for demo in demo_list:\n",
        "      output.append(result.get(demo).get('value'))\n",
        "    return mode(output)[0][0]\n",
        "\n",
        "  # result.get('indorg_balanced').get('value')\n",
        "  tweet_list = df_sub.to_dict(orient='records')\n",
        "  # tweet_list = df_sub.head(2000).to_dict(orient='records')\n",
        "  #result = map(ind_org_classify, tweet_list)\n",
        "\n",
        "  #df_sub.head(2000)['ind_org'] = list(result)\n",
        "\n",
        "  df_new = df\n",
        "\n",
        "  df_new['ind_org'] = list(map(ind_org_classify, tweet_list))\n",
        "\n",
        "  tweet_list\n",
        "  print(df_new.shape)\n",
        "  df_new[cols_in_hydrated + ['ind_org']]\n",
        "\n",
        "  print(df_new['ind_org'].value_counts())\n",
        "\n",
        "  df_ind = df_new[df_new['ind_org']== 'ind']\n",
        "\n",
        "  path2 = \"/content/drive/MyDrive/Omicron Tweet Analytics project/Filter1_res/IndivFiles\"\n",
        "\n",
        "  #os.makedirs(path, exist_ok=False)\n",
        "  isExist = os.path.exists(path2)\n",
        "  if not isExist:\n",
        "  \n",
        "    # Create a new directory because it does not exist \n",
        "    os.makedirs(path2)\n",
        "    print(\"The new directory is created!\")\n",
        "  dest_path = \"/content/drive/MyDrive/Omicron Tweet Analytics project/Filter1_res/IndivFiles/df_ind_\" + d_str + \".csv\"\n",
        "  df_ind.to_csv(dest_path)\n",
        "\n",
        "\n"
      ]
    },
    {
      "cell_type": "code",
      "execution_count": null,
      "metadata": {
        "id": "qihEo4l_k3oF"
      },
      "outputs": [],
      "source": [
        ""
      ]
    },
    {
      "cell_type": "code",
      "execution_count": null,
      "metadata": {
        "id": "hjVmEwN1_1J8"
      },
      "outputs": [],
      "source": [
        "#!pip install  tensorflow==1.15"
      ]
    },
    {
      "cell_type": "code",
      "execution_count": null,
      "metadata": {
        "id": "-DhWRKeh__kR"
      },
      "outputs": [],
      "source": [
        "#!pip uninstall tensorflow==2.8.0"
      ]
    },
    {
      "cell_type": "code",
      "execution_count": null,
      "metadata": {
        "id": "H86xfm9A_dhv",
        "colab": {
          "base_uri": "https://localhost:8080/"
        },
        "outputId": "9e5c67d0-8d25-4f44-a9a9-2eac098ee9ea"
      },
      "outputs": [
        {
          "output_type": "stream",
          "name": "stdout",
          "text": [
            "1.15.0\n"
          ]
        }
      ],
      "source": [
        "import tensorflow as tf\n",
        "print(tf. __version__)"
      ]
    },
    {
      "cell_type": "code",
      "execution_count": null,
      "metadata": {
        "id": "qkvIz232DVbn",
        "colab": {
          "base_uri": "https://localhost:8080/"
        },
        "outputId": "5188b829-f69c-4a24-dae3-7ec995a68e49"
      },
      "outputs": [
        {
          "output_type": "stream",
          "name": "stdout",
          "text": [
            "/usr/local/lib/python3.7/dist-packages/demographer/models\n"
          ]
        }
      ],
      "source": [
        "%cd \"/usr/local/lib/python3.7/dist-packages/demographer/models\""
      ]
    },
    {
      "cell_type": "code",
      "execution_count": null,
      "metadata": {
        "id": "Ym_OB7OoDZDo",
        "colab": {
          "base_uri": "https://localhost:8080/"
        },
        "outputId": "e11e688e-2b75-4fdb-8a2d-74dd44933b6a"
      },
      "outputs": [
        {
          "output_type": "stream",
          "name": "stdout",
          "text": [
            "indorg_neural\t      indorg_simple\t    placeholder.txt\n",
            "indorg_neural.tar.gz  indorg_simple.tar.gz\n"
          ]
        }
      ],
      "source": [
        "!ls"
      ]
    },
    {
      "cell_type": "code",
      "execution_count": null,
      "metadata": {
        "id": "LvBjq4g9YMQN",
        "colab": {
          "base_uri": "https://localhost:8080/"
        },
        "outputId": "0a94c9b3-5108-4e1f-ebcc-1aaf86872473"
      },
      "outputs": [
        {
          "output_type": "execute_result",
          "data": {
            "text/plain": [
              "ind    70777\n",
              "org    22697\n",
              "Name: ind_org, dtype: int64"
            ]
          },
          "metadata": {},
          "execution_count": 16
        }
      ],
      "source": [
        "df_new['ind_org'].value_counts()"
      ]
    },
    {
      "cell_type": "markdown",
      "metadata": {
        "id": "Pi-_z-NwaYqh"
      },
      "source": [
        "## Ignore below this"
      ]
    }
  ],
  "metadata": {
    "colab": {
      "collapsed_sections": [],
      "name": "Classification using demographer 2.ipynb",
      "provenance": [],
      "include_colab_link": true
    },
    "kernelspec": {
      "display_name": "Python 3",
      "name": "python3"
    },
    "language_info": {
      "name": "python"
    }
  },
  "nbformat": 4,
  "nbformat_minor": 0
}